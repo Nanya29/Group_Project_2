{
 "cells": [
  {
   "cell_type": "code",
   "execution_count": 1,
   "id": "92763975-dc03-4076-bb40-e80a3f77271d",
   "metadata": {
    "tags": []
   },
   "outputs": [],
   "source": [
    "# other data set:\n",
    "# https://www.kaggle.com/datasets/amandam1/breastcancerdataset"
   ]
  },
  {
   "cell_type": "code",
   "execution_count": 2,
   "id": "d75d0944-35c3-49c5-982a-45ca8784592b",
   "metadata": {
    "tags": []
   },
   "outputs": [
    {
     "name": "stdout",
     "output_type": "stream",
     "text": [
      "Requirement already satisfied: ucimlrepo in c:\\users\\tdanner.tzaconsulting\\.conda\\envs\\dev\\lib\\site-packages (0.0.3)\n",
      "Note: you may need to restart the kernel to use updated packages.\n"
     ]
    }
   ],
   "source": [
    "pip install ucimlrepo"
   ]
  },
  {
   "cell_type": "code",
   "execution_count": 3,
   "id": "a595eb06-01e1-44ec-a22d-47970cfa01ea",
   "metadata": {},
   "outputs": [
    {
     "name": "stdout",
     "output_type": "stream",
     "text": [
      "WARNING:tensorflow:From C:\\Users\\tdanner.TZACONSULTING\\.conda\\envs\\dev\\lib\\site-packages\\keras\\src\\losses.py:2976: The name tf.losses.sparse_softmax_cross_entropy is deprecated. Please use tf.compat.v1.losses.sparse_softmax_cross_entropy instead.\n",
      "\n"
     ]
    }
   ],
   "source": [
    "# Imports\n",
    "from ucimlrepo import fetch_ucirepo \n",
    "import pandas as pd\n",
    "import tensorflow as tf\n",
    "from tensorflow.keras.layers import Dense\n",
    "from tensorflow.keras.models import Sequential\n",
    "from sklearn.model_selection import train_test_split\n",
    "from sklearn.preprocessing import StandardScaler,OneHotEncoder"
   ]
  },
  {
   "cell_type": "code",
   "execution_count": 4,
   "id": "5f2526e6-de38-4f90-8673-877979e2888f",
   "metadata": {
    "tags": []
   },
   "outputs": [],
   "source": [
    "# Used the following sounce for this cell:\n",
    "# https://archive.ics.uci.edu/dataset/17/breast+cancer+wisconsin+diagnostic\n",
    "# https://github.com/uci-ml-repo/ucimlrepo\n",
    "\n",
    "# fetch dataset \n",
    "breast_cancer_wisconsin_diagnostic = fetch_ucirepo(id=17) \n",
    "\n",
    "# create DF\n",
    "breast_cancer_df = breast_cancer_wisconsin_diagnostic.data.original\n",
    "\n",
    "# change strings to numbers \n",
    "breast_cancer_df['Diagnosis'].replace({'M': '1', 'B': '0'}, inplace=True)"
   ]
  },
  {
   "cell_type": "code",
   "execution_count": 5,
   "id": "d999855f-a38c-4f2b-bce8-1f7084d93325",
   "metadata": {
    "tags": []
   },
   "outputs": [],
   "source": [
    "# data (as pandas dataframes) \n",
    "X = breast_cancer_df.drop(columns='Diagnosis')\n",
    "y = breast_cancer_df['Diagnosis']"
   ]
  },
  {
   "cell_type": "code",
   "execution_count": 6,
   "id": "ef59ddeb-6f63-4ff3-8123-cf94c960b6a5",
   "metadata": {
    "tags": []
   },
   "outputs": [],
   "source": [
    "y = y.astype(int)"
   ]
  },
  {
   "cell_type": "code",
   "execution_count": 7,
   "id": "a6a66e5f-325e-4cd4-b10e-c5ae314031a6",
   "metadata": {
    "tags": []
   },
   "outputs": [
    {
     "data": {
      "text/plain": [
       "ID                      int64\n",
       "radius1               float64\n",
       "texture1              float64\n",
       "perimeter1            float64\n",
       "area1                 float64\n",
       "smoothness1           float64\n",
       "compactness1          float64\n",
       "concavity1            float64\n",
       "concave_points1       float64\n",
       "symmetry1             float64\n",
       "fractal_dimension1    float64\n",
       "radius2               float64\n",
       "texture2              float64\n",
       "perimeter2            float64\n",
       "area2                 float64\n",
       "smoothness2           float64\n",
       "compactness2          float64\n",
       "concavity2            float64\n",
       "concave_points2       float64\n",
       "symmetry2             float64\n",
       "fractal_dimension2    float64\n",
       "radius3               float64\n",
       "texture3              float64\n",
       "perimeter3            float64\n",
       "area3                 float64\n",
       "smoothness3           float64\n",
       "compactness3          float64\n",
       "concavity3            float64\n",
       "concave_points3       float64\n",
       "symmetry3             float64\n",
       "fractal_dimension3    float64\n",
       "dtype: object"
      ]
     },
     "execution_count": 7,
     "metadata": {},
     "output_type": "execute_result"
    }
   ],
   "source": [
    "X.dtypes"
   ]
  },
  {
   "cell_type": "code",
   "execution_count": 8,
   "id": "38c8f5ea-8e9f-43b6-8628-8b238525ab86",
   "metadata": {},
   "outputs": [],
   "source": [
    "X = X.astype(int)"
   ]
  },
  {
   "cell_type": "code",
   "execution_count": 9,
   "id": "459fd5b3-7917-44c0-a799-1975dbeb3ec3",
   "metadata": {
    "tags": []
   },
   "outputs": [
    {
     "data": {
      "text/plain": [
       "Diagnosis\n",
       "0    357\n",
       "1    212\n",
       "Name: count, dtype: int64"
      ]
     },
     "execution_count": 9,
     "metadata": {},
     "output_type": "execute_result"
    }
   ],
   "source": [
    "y.value_counts()"
   ]
  },
  {
   "cell_type": "code",
   "execution_count": 10,
   "id": "c5ca8c07-03b9-48cb-9e77-3cb2090b2b76",
   "metadata": {},
   "outputs": [],
   "source": [
    "# Split the preprocessed data into a training and testing dataset\n",
    "# Assign the function a random_state equal to 1\n",
    "X_train, X_test, y_train, y_test = train_test_split(X, y, random_state = 1)"
   ]
  },
  {
   "cell_type": "code",
   "execution_count": 11,
   "id": "b869e3d1-4b69-4107-a8cc-cfd5aa76d09a",
   "metadata": {
    "tags": []
   },
   "outputs": [],
   "source": [
    "# Create a StandardScaler instance\n",
    "scaler = StandardScaler()\n",
    "\n",
    "# Fit the scaler to the features training dataset\n",
    "X_scaler = scaler.fit(X_train)\n",
    "\n",
    "# Fit the scaler to the features training dataset\n",
    "X_train_scaled = X_scaler.transform(X_train)\n",
    "X_test_scaled = X_scaler.transform(X_test)"
   ]
  },
  {
   "cell_type": "code",
   "execution_count": 12,
   "id": "d1ce403b-4b2a-4946-aa57-6ecf6ee68e18",
   "metadata": {
    "tags": []
   },
   "outputs": [
    {
     "data": {
      "text/plain": [
       "31"
      ]
     },
     "execution_count": 12,
     "metadata": {},
     "output_type": "execute_result"
    }
   ],
   "source": [
    "# Define the the number of inputs (features) to the model\n",
    "number_input_features = len(X_train.iloc[0])\n",
    "\n",
    "# Review the number of features\n",
    "number_input_features"
   ]
  },
  {
   "cell_type": "code",
   "execution_count": 13,
   "id": "5c26221c-7b71-4413-9c5b-a00d7482d3cd",
   "metadata": {
    "tags": []
   },
   "outputs": [],
   "source": [
    "# Define the number of neurons in the output layer\n",
    "number_output_neurons = 1"
   ]
  },
  {
   "cell_type": "code",
   "execution_count": 14,
   "id": "fb3b1542-c83e-4173-8894-24b77437b628",
   "metadata": {
    "tags": []
   },
   "outputs": [
    {
     "data": {
      "text/plain": [
       "16"
      ]
     },
     "execution_count": 14,
     "metadata": {},
     "output_type": "execute_result"
    }
   ],
   "source": [
    "# Define the number of hidden nodes for the first hidden layer\n",
    "hidden_nodes_layer1 =  (number_input_features + 1) // 2\n",
    "\n",
    "# Review the number hidden nodes in the first layer\n",
    "hidden_nodes_layer1"
   ]
  },
  {
   "cell_type": "code",
   "execution_count": 15,
   "id": "43fa5bfb-7edb-4679-94d5-22282dbb2477",
   "metadata": {
    "tags": []
   },
   "outputs": [
    {
     "data": {
      "text/plain": [
       "8"
      ]
     },
     "execution_count": 15,
     "metadata": {},
     "output_type": "execute_result"
    }
   ],
   "source": [
    "# Define the number of hidden nodes for the second hidden layer\n",
    "hidden_nodes_layer2 =  (hidden_nodes_layer1 + 1) // 2\n",
    "\n",
    "# Review the number hidden nodes in the second layer\n",
    "hidden_nodes_layer2"
   ]
  },
  {
   "cell_type": "code",
   "execution_count": 16,
   "id": "9f88fbc1-a1c1-4844-b734-1f4f98ecac81",
   "metadata": {
    "tags": []
   },
   "outputs": [
    {
     "name": "stdout",
     "output_type": "stream",
     "text": [
      "WARNING:tensorflow:From C:\\Users\\tdanner.TZACONSULTING\\.conda\\envs\\dev\\lib\\site-packages\\keras\\src\\backend.py:873: The name tf.get_default_graph is deprecated. Please use tf.compat.v1.get_default_graph instead.\n",
      "\n"
     ]
    }
   ],
   "source": [
    "# Create the Sequential model instance\n",
    "nn = Sequential()"
   ]
  },
  {
   "cell_type": "code",
   "execution_count": 17,
   "id": "831c9ecc-c975-495b-8bc0-cc6406a5473b",
   "metadata": {
    "tags": []
   },
   "outputs": [],
   "source": [
    "# Add the first hidden layer\n",
    "nn.add(Dense(units=hidden_nodes_layer1, input_dim=number_input_features, activation=\"relu\"))"
   ]
  },
  {
   "cell_type": "code",
   "execution_count": 18,
   "id": "10b824bc-4fa3-4df2-9c9c-46de7ca960d8",
   "metadata": {
    "tags": []
   },
   "outputs": [],
   "source": [
    "# Add the second hidden layer\n",
    "nn.add(Dense(units=hidden_nodes_layer2, activation=\"relu\"))"
   ]
  },
  {
   "cell_type": "code",
   "execution_count": 19,
   "id": "1d59e0e7-1684-49cb-be22-2ba83377e56f",
   "metadata": {
    "tags": []
   },
   "outputs": [],
   "source": [
    "# Add the output layer to the model specifying the number of output neurons and activation function\n",
    "nn.add(Dense(units=number_output_neurons, activation=\"sigmoid\"))"
   ]
  },
  {
   "cell_type": "code",
   "execution_count": 20,
   "id": "80cbfc75-ee8f-4048-a929-b60472a9e0d3",
   "metadata": {
    "tags": []
   },
   "outputs": [
    {
     "name": "stdout",
     "output_type": "stream",
     "text": [
      "Model: \"sequential\"\n",
      "_________________________________________________________________\n",
      " Layer (type)                Output Shape              Param #   \n",
      "=================================================================\n",
      " dense (Dense)               (None, 16)                512       \n",
      "                                                                 \n",
      " dense_1 (Dense)             (None, 8)                 136       \n",
      "                                                                 \n",
      " dense_2 (Dense)             (None, 1)                 9         \n",
      "                                                                 \n",
      "=================================================================\n",
      "Total params: 657 (2.57 KB)\n",
      "Trainable params: 657 (2.57 KB)\n",
      "Non-trainable params: 0 (0.00 Byte)\n",
      "_________________________________________________________________\n"
     ]
    }
   ],
   "source": [
    "# Display the Sequential model summary\n",
    "nn.summary()"
   ]
  },
  {
   "cell_type": "code",
   "execution_count": 21,
   "id": "31bc0ad8-03da-48b6-b1c9-34cd8216c083",
   "metadata": {
    "tags": []
   },
   "outputs": [
    {
     "name": "stdout",
     "output_type": "stream",
     "text": [
      "WARNING:tensorflow:From C:\\Users\\tdanner.TZACONSULTING\\.conda\\envs\\dev\\lib\\site-packages\\keras\\src\\optimizers\\__init__.py:309: The name tf.train.Optimizer is deprecated. Please use tf.compat.v1.train.Optimizer instead.\n",
      "\n"
     ]
    }
   ],
   "source": [
    "# Compile the Sequential model\n",
    "nn.compile(loss=\"binary_crossentropy\", optimizer=\"adam\", metrics=[\"accuracy\"])"
   ]
  },
  {
   "cell_type": "code",
   "execution_count": 22,
   "id": "d29883e7-2763-4af7-9543-78a4b7b30fa9",
   "metadata": {
    "tags": []
   },
   "outputs": [
    {
     "name": "stdout",
     "output_type": "stream",
     "text": [
      "Epoch 1/200\n",
      "WARNING:tensorflow:From C:\\Users\\tdanner.TZACONSULTING\\.conda\\envs\\dev\\lib\\site-packages\\keras\\src\\utils\\tf_utils.py:492: The name tf.ragged.RaggedTensorValue is deprecated. Please use tf.compat.v1.ragged.RaggedTensorValue instead.\n",
      "\n",
      "WARNING:tensorflow:From C:\\Users\\tdanner.TZACONSULTING\\.conda\\envs\\dev\\lib\\site-packages\\keras\\src\\engine\\base_layer_utils.py:384: The name tf.executing_eagerly_outside_functions is deprecated. Please use tf.compat.v1.executing_eagerly_outside_functions instead.\n",
      "\n",
      "14/14 [==============================] - 1s 3ms/step - loss: 0.7075 - accuracy: 0.5047\n",
      "Epoch 2/200\n",
      "14/14 [==============================] - 0s 2ms/step - loss: 0.5808 - accuracy: 0.7300\n",
      "Epoch 3/200\n",
      "14/14 [==============================] - 0s 2ms/step - loss: 0.4924 - accuracy: 0.8568\n",
      "Epoch 4/200\n",
      "14/14 [==============================] - 0s 2ms/step - loss: 0.4286 - accuracy: 0.9061\n",
      "Epoch 5/200\n",
      "14/14 [==============================] - 0s 2ms/step - loss: 0.3817 - accuracy: 0.9178\n",
      "Epoch 6/200\n",
      "14/14 [==============================] - 0s 2ms/step - loss: 0.3436 - accuracy: 0.9272\n",
      "Epoch 7/200\n",
      "14/14 [==============================] - 0s 2ms/step - loss: 0.3098 - accuracy: 0.9390\n",
      "Epoch 8/200\n",
      "14/14 [==============================] - 0s 2ms/step - loss: 0.2810 - accuracy: 0.9343\n",
      "Epoch 9/200\n",
      "14/14 [==============================] - 0s 2ms/step - loss: 0.2563 - accuracy: 0.9390\n",
      "Epoch 10/200\n",
      "14/14 [==============================] - 0s 2ms/step - loss: 0.2354 - accuracy: 0.9413\n",
      "Epoch 11/200\n",
      "14/14 [==============================] - 0s 2ms/step - loss: 0.2177 - accuracy: 0.9413\n",
      "Epoch 12/200\n",
      "14/14 [==============================] - 0s 2ms/step - loss: 0.2029 - accuracy: 0.9437\n",
      "Epoch 13/200\n",
      "14/14 [==============================] - 0s 2ms/step - loss: 0.1901 - accuracy: 0.9413\n",
      "Epoch 14/200\n",
      "14/14 [==============================] - 0s 3ms/step - loss: 0.1797 - accuracy: 0.9413\n",
      "Epoch 15/200\n",
      "14/14 [==============================] - 0s 2ms/step - loss: 0.1721 - accuracy: 0.9413\n",
      "Epoch 16/200\n",
      "14/14 [==============================] - 0s 2ms/step - loss: 0.1666 - accuracy: 0.9413\n",
      "Epoch 17/200\n",
      "14/14 [==============================] - 0s 3ms/step - loss: 0.1618 - accuracy: 0.9390\n",
      "Epoch 18/200\n",
      "14/14 [==============================] - 0s 2ms/step - loss: 0.1584 - accuracy: 0.9390\n",
      "Epoch 19/200\n",
      "14/14 [==============================] - 0s 2ms/step - loss: 0.1550 - accuracy: 0.9390\n",
      "Epoch 20/200\n",
      "14/14 [==============================] - 0s 2ms/step - loss: 0.1527 - accuracy: 0.9413\n",
      "Epoch 21/200\n",
      "14/14 [==============================] - 0s 2ms/step - loss: 0.1503 - accuracy: 0.9437\n",
      "Epoch 22/200\n",
      "14/14 [==============================] - 0s 2ms/step - loss: 0.1479 - accuracy: 0.9460\n",
      "Epoch 23/200\n",
      "14/14 [==============================] - 0s 3ms/step - loss: 0.1458 - accuracy: 0.9460\n",
      "Epoch 24/200\n",
      "14/14 [==============================] - 0s 2ms/step - loss: 0.1441 - accuracy: 0.9460\n",
      "Epoch 25/200\n",
      "14/14 [==============================] - 0s 3ms/step - loss: 0.1424 - accuracy: 0.9437\n",
      "Epoch 26/200\n",
      "14/14 [==============================] - 0s 3ms/step - loss: 0.1409 - accuracy: 0.9437\n",
      "Epoch 27/200\n",
      "14/14 [==============================] - 0s 3ms/step - loss: 0.1394 - accuracy: 0.9437\n",
      "Epoch 28/200\n",
      "14/14 [==============================] - 0s 3ms/step - loss: 0.1381 - accuracy: 0.9437\n",
      "Epoch 29/200\n",
      "14/14 [==============================] - 0s 3ms/step - loss: 0.1369 - accuracy: 0.9460\n",
      "Epoch 30/200\n",
      "14/14 [==============================] - 0s 3ms/step - loss: 0.1356 - accuracy: 0.9437\n",
      "Epoch 31/200\n",
      "14/14 [==============================] - 0s 3ms/step - loss: 0.1343 - accuracy: 0.9437\n",
      "Epoch 32/200\n",
      "14/14 [==============================] - 0s 3ms/step - loss: 0.1332 - accuracy: 0.9460\n",
      "Epoch 33/200\n",
      "14/14 [==============================] - 0s 2ms/step - loss: 0.1320 - accuracy: 0.9460\n",
      "Epoch 34/200\n",
      "14/14 [==============================] - 0s 2ms/step - loss: 0.1311 - accuracy: 0.9484\n",
      "Epoch 35/200\n",
      "14/14 [==============================] - 0s 3ms/step - loss: 0.1296 - accuracy: 0.9484\n",
      "Epoch 36/200\n",
      "14/14 [==============================] - 0s 3ms/step - loss: 0.1284 - accuracy: 0.9484\n",
      "Epoch 37/200\n",
      "14/14 [==============================] - 0s 2ms/step - loss: 0.1278 - accuracy: 0.9507\n",
      "Epoch 38/200\n",
      "14/14 [==============================] - 0s 3ms/step - loss: 0.1265 - accuracy: 0.9531\n",
      "Epoch 39/200\n",
      "14/14 [==============================] - 0s 2ms/step - loss: 0.1254 - accuracy: 0.9554\n",
      "Epoch 40/200\n",
      "14/14 [==============================] - 0s 2ms/step - loss: 0.1244 - accuracy: 0.9554\n",
      "Epoch 41/200\n",
      "14/14 [==============================] - 0s 4ms/step - loss: 0.1233 - accuracy: 0.9554\n",
      "Epoch 42/200\n",
      "14/14 [==============================] - 0s 5ms/step - loss: 0.1226 - accuracy: 0.9554\n",
      "Epoch 43/200\n",
      "14/14 [==============================] - 0s 4ms/step - loss: 0.1212 - accuracy: 0.9554\n",
      "Epoch 44/200\n",
      "14/14 [==============================] - 0s 4ms/step - loss: 0.1206 - accuracy: 0.9554\n",
      "Epoch 45/200\n",
      "14/14 [==============================] - 0s 3ms/step - loss: 0.1198 - accuracy: 0.9554\n",
      "Epoch 46/200\n",
      "14/14 [==============================] - 0s 3ms/step - loss: 0.1188 - accuracy: 0.9554\n",
      "Epoch 47/200\n",
      "14/14 [==============================] - 0s 3ms/step - loss: 0.1178 - accuracy: 0.9554\n",
      "Epoch 48/200\n",
      "14/14 [==============================] - 0s 3ms/step - loss: 0.1169 - accuracy: 0.9554\n",
      "Epoch 49/200\n",
      "14/14 [==============================] - 0s 3ms/step - loss: 0.1158 - accuracy: 0.9577\n",
      "Epoch 50/200\n",
      "14/14 [==============================] - 0s 4ms/step - loss: 0.1150 - accuracy: 0.9577\n",
      "Epoch 51/200\n",
      "14/14 [==============================] - 0s 4ms/step - loss: 0.1149 - accuracy: 0.9531\n",
      "Epoch 52/200\n",
      "14/14 [==============================] - 0s 5ms/step - loss: 0.1133 - accuracy: 0.9554\n",
      "Epoch 53/200\n",
      "14/14 [==============================] - 0s 4ms/step - loss: 0.1124 - accuracy: 0.9577\n",
      "Epoch 54/200\n",
      "14/14 [==============================] - 0s 4ms/step - loss: 0.1117 - accuracy: 0.9577\n",
      "Epoch 55/200\n",
      "14/14 [==============================] - 0s 6ms/step - loss: 0.1108 - accuracy: 0.9577\n",
      "Epoch 56/200\n",
      "14/14 [==============================] - 0s 4ms/step - loss: 0.1102 - accuracy: 0.9577\n",
      "Epoch 57/200\n",
      "14/14 [==============================] - 0s 3ms/step - loss: 0.1096 - accuracy: 0.9554\n",
      "Epoch 58/200\n",
      "14/14 [==============================] - 0s 4ms/step - loss: 0.1085 - accuracy: 0.9577\n",
      "Epoch 59/200\n",
      "14/14 [==============================] - 0s 3ms/step - loss: 0.1079 - accuracy: 0.9577\n",
      "Epoch 60/200\n",
      "14/14 [==============================] - 0s 3ms/step - loss: 0.1068 - accuracy: 0.9554\n",
      "Epoch 61/200\n",
      "14/14 [==============================] - 0s 3ms/step - loss: 0.1062 - accuracy: 0.9531\n",
      "Epoch 62/200\n",
      "14/14 [==============================] - 0s 3ms/step - loss: 0.1053 - accuracy: 0.9554\n",
      "Epoch 63/200\n",
      "14/14 [==============================] - 0s 3ms/step - loss: 0.1045 - accuracy: 0.9531\n",
      "Epoch 64/200\n",
      "14/14 [==============================] - 0s 3ms/step - loss: 0.1040 - accuracy: 0.9531\n",
      "Epoch 65/200\n",
      "14/14 [==============================] - 0s 4ms/step - loss: 0.1031 - accuracy: 0.9554\n",
      "Epoch 66/200\n",
      "14/14 [==============================] - 0s 3ms/step - loss: 0.1032 - accuracy: 0.9601\n",
      "Epoch 67/200\n",
      "14/14 [==============================] - 0s 4ms/step - loss: 0.1016 - accuracy: 0.9554\n",
      "Epoch 68/200\n",
      "14/14 [==============================] - 0s 4ms/step - loss: 0.1010 - accuracy: 0.9531\n",
      "Epoch 69/200\n",
      "14/14 [==============================] - 0s 4ms/step - loss: 0.1000 - accuracy: 0.9531\n",
      "Epoch 70/200\n",
      "14/14 [==============================] - 0s 4ms/step - loss: 0.0994 - accuracy: 0.9577\n",
      "Epoch 71/200\n",
      "14/14 [==============================] - 0s 4ms/step - loss: 0.0987 - accuracy: 0.9577\n",
      "Epoch 72/200\n",
      "14/14 [==============================] - 0s 4ms/step - loss: 0.0980 - accuracy: 0.9577\n",
      "Epoch 73/200\n",
      "14/14 [==============================] - 0s 3ms/step - loss: 0.0973 - accuracy: 0.9577\n",
      "Epoch 74/200\n",
      "14/14 [==============================] - 0s 3ms/step - loss: 0.0966 - accuracy: 0.9554\n",
      "Epoch 75/200\n",
      "14/14 [==============================] - 0s 3ms/step - loss: 0.0963 - accuracy: 0.9554\n",
      "Epoch 76/200\n",
      "14/14 [==============================] - 0s 3ms/step - loss: 0.0957 - accuracy: 0.9554\n",
      "Epoch 77/200\n",
      "14/14 [==============================] - 0s 3ms/step - loss: 0.0953 - accuracy: 0.9554\n",
      "Epoch 78/200\n",
      "14/14 [==============================] - 0s 3ms/step - loss: 0.0944 - accuracy: 0.9577\n",
      "Epoch 79/200\n",
      "14/14 [==============================] - 0s 3ms/step - loss: 0.0940 - accuracy: 0.9577\n",
      "Epoch 80/200\n",
      "14/14 [==============================] - 0s 3ms/step - loss: 0.0932 - accuracy: 0.9577\n",
      "Epoch 81/200\n",
      "14/14 [==============================] - 0s 3ms/step - loss: 0.0925 - accuracy: 0.9577\n",
      "Epoch 82/200\n",
      "14/14 [==============================] - 0s 3ms/step - loss: 0.0928 - accuracy: 0.9577\n",
      "Epoch 83/200\n",
      "14/14 [==============================] - 0s 3ms/step - loss: 0.0916 - accuracy: 0.9601\n",
      "Epoch 84/200\n",
      "14/14 [==============================] - 0s 3ms/step - loss: 0.0909 - accuracy: 0.9577\n",
      "Epoch 85/200\n",
      "14/14 [==============================] - 0s 3ms/step - loss: 0.0904 - accuracy: 0.9577\n",
      "Epoch 86/200\n",
      "14/14 [==============================] - 0s 3ms/step - loss: 0.0898 - accuracy: 0.9577\n",
      "Epoch 87/200\n",
      "14/14 [==============================] - 0s 3ms/step - loss: 0.0898 - accuracy: 0.9601\n",
      "Epoch 88/200\n",
      "14/14 [==============================] - 0s 4ms/step - loss: 0.0885 - accuracy: 0.9601\n",
      "Epoch 89/200\n",
      "14/14 [==============================] - 0s 3ms/step - loss: 0.0881 - accuracy: 0.9601\n",
      "Epoch 90/200\n",
      "14/14 [==============================] - 0s 3ms/step - loss: 0.0883 - accuracy: 0.9577\n",
      "Epoch 91/200\n",
      "14/14 [==============================] - 0s 3ms/step - loss: 0.0871 - accuracy: 0.9601\n",
      "Epoch 92/200\n",
      "14/14 [==============================] - 0s 3ms/step - loss: 0.0870 - accuracy: 0.9601\n",
      "Epoch 93/200\n",
      "14/14 [==============================] - 0s 3ms/step - loss: 0.0861 - accuracy: 0.9601\n",
      "Epoch 94/200\n",
      "14/14 [==============================] - 0s 3ms/step - loss: 0.0858 - accuracy: 0.9601\n",
      "Epoch 95/200\n",
      "14/14 [==============================] - 0s 3ms/step - loss: 0.0852 - accuracy: 0.9601\n",
      "Epoch 96/200\n",
      "14/14 [==============================] - 0s 3ms/step - loss: 0.0851 - accuracy: 0.9601\n",
      "Epoch 97/200\n",
      "14/14 [==============================] - 0s 3ms/step - loss: 0.0841 - accuracy: 0.9601\n",
      "Epoch 98/200\n",
      "14/14 [==============================] - 0s 3ms/step - loss: 0.0837 - accuracy: 0.9601\n",
      "Epoch 99/200\n",
      "14/14 [==============================] - 0s 3ms/step - loss: 0.0835 - accuracy: 0.9601\n",
      "Epoch 100/200\n",
      "14/14 [==============================] - 0s 3ms/step - loss: 0.0834 - accuracy: 0.9577\n",
      "Epoch 101/200\n",
      "14/14 [==============================] - 0s 3ms/step - loss: 0.0836 - accuracy: 0.9601\n",
      "Epoch 102/200\n",
      "14/14 [==============================] - 0s 3ms/step - loss: 0.0824 - accuracy: 0.9624\n",
      "Epoch 103/200\n",
      "14/14 [==============================] - 0s 3ms/step - loss: 0.0818 - accuracy: 0.9624\n",
      "Epoch 104/200\n",
      "14/14 [==============================] - 0s 3ms/step - loss: 0.0814 - accuracy: 0.9624\n",
      "Epoch 105/200\n",
      "14/14 [==============================] - 0s 3ms/step - loss: 0.0809 - accuracy: 0.9624\n",
      "Epoch 106/200\n",
      "14/14 [==============================] - 0s 3ms/step - loss: 0.0805 - accuracy: 0.9624\n",
      "Epoch 107/200\n",
      "14/14 [==============================] - 0s 3ms/step - loss: 0.0800 - accuracy: 0.9601\n",
      "Epoch 108/200\n",
      "14/14 [==============================] - 0s 3ms/step - loss: 0.0800 - accuracy: 0.9601\n",
      "Epoch 109/200\n",
      "14/14 [==============================] - 0s 3ms/step - loss: 0.0794 - accuracy: 0.9601\n",
      "Epoch 110/200\n",
      "14/14 [==============================] - 0s 3ms/step - loss: 0.0793 - accuracy: 0.9601\n",
      "Epoch 111/200\n",
      "14/14 [==============================] - 0s 3ms/step - loss: 0.0789 - accuracy: 0.9601\n",
      "Epoch 112/200\n",
      "14/14 [==============================] - 0s 3ms/step - loss: 0.0785 - accuracy: 0.9601\n",
      "Epoch 113/200\n",
      "14/14 [==============================] - 0s 3ms/step - loss: 0.0783 - accuracy: 0.9624\n",
      "Epoch 114/200\n",
      "14/14 [==============================] - 0s 3ms/step - loss: 0.0779 - accuracy: 0.9624\n",
      "Epoch 115/200\n",
      "14/14 [==============================] - 0s 3ms/step - loss: 0.0775 - accuracy: 0.9648\n",
      "Epoch 116/200\n",
      "14/14 [==============================] - 0s 3ms/step - loss: 0.0765 - accuracy: 0.9624\n",
      "Epoch 117/200\n",
      "14/14 [==============================] - 0s 2ms/step - loss: 0.0776 - accuracy: 0.9648\n",
      "Epoch 118/200\n",
      "14/14 [==============================] - 0s 3ms/step - loss: 0.0767 - accuracy: 0.9648\n",
      "Epoch 119/200\n",
      "14/14 [==============================] - 0s 3ms/step - loss: 0.0766 - accuracy: 0.9648\n",
      "Epoch 120/200\n",
      "14/14 [==============================] - 0s 3ms/step - loss: 0.0758 - accuracy: 0.9648\n",
      "Epoch 121/200\n",
      "14/14 [==============================] - 0s 3ms/step - loss: 0.0755 - accuracy: 0.9648\n",
      "Epoch 122/200\n",
      "14/14 [==============================] - 0s 3ms/step - loss: 0.0750 - accuracy: 0.9624\n",
      "Epoch 123/200\n",
      "14/14 [==============================] - 0s 2ms/step - loss: 0.0750 - accuracy: 0.9624\n",
      "Epoch 124/200\n",
      "14/14 [==============================] - 0s 3ms/step - loss: 0.0744 - accuracy: 0.9624\n",
      "Epoch 125/200\n",
      "14/14 [==============================] - 0s 3ms/step - loss: 0.0745 - accuracy: 0.9624\n",
      "Epoch 126/200\n",
      "14/14 [==============================] - 0s 2ms/step - loss: 0.0733 - accuracy: 0.9648\n",
      "Epoch 127/200\n",
      "14/14 [==============================] - 0s 3ms/step - loss: 0.0732 - accuracy: 0.9648\n",
      "Epoch 128/200\n",
      "14/14 [==============================] - 0s 2ms/step - loss: 0.0729 - accuracy: 0.9671\n",
      "Epoch 129/200\n",
      "14/14 [==============================] - 0s 3ms/step - loss: 0.0723 - accuracy: 0.9671\n",
      "Epoch 130/200\n",
      "14/14 [==============================] - 0s 3ms/step - loss: 0.0723 - accuracy: 0.9648\n",
      "Epoch 131/200\n",
      "14/14 [==============================] - 0s 3ms/step - loss: 0.0723 - accuracy: 0.9624\n",
      "Epoch 132/200\n",
      "14/14 [==============================] - 0s 3ms/step - loss: 0.0715 - accuracy: 0.9648\n",
      "Epoch 133/200\n",
      "14/14 [==============================] - 0s 3ms/step - loss: 0.0708 - accuracy: 0.9671\n",
      "Epoch 134/200\n",
      "14/14 [==============================] - 0s 3ms/step - loss: 0.0711 - accuracy: 0.9648\n",
      "Epoch 135/200\n",
      "14/14 [==============================] - 0s 3ms/step - loss: 0.0716 - accuracy: 0.9624\n",
      "Epoch 136/200\n",
      "14/14 [==============================] - 0s 3ms/step - loss: 0.0706 - accuracy: 0.9648\n",
      "Epoch 137/200\n",
      "14/14 [==============================] - 0s 3ms/step - loss: 0.0699 - accuracy: 0.9648\n",
      "Epoch 138/200\n",
      "14/14 [==============================] - 0s 3ms/step - loss: 0.0693 - accuracy: 0.9648\n",
      "Epoch 139/200\n",
      "14/14 [==============================] - 0s 4ms/step - loss: 0.0691 - accuracy: 0.9648\n",
      "Epoch 140/200\n",
      "14/14 [==============================] - 0s 3ms/step - loss: 0.0684 - accuracy: 0.9648\n",
      "Epoch 141/200\n",
      "14/14 [==============================] - 0s 4ms/step - loss: 0.0684 - accuracy: 0.9624\n",
      "Epoch 142/200\n",
      "14/14 [==============================] - 0s 3ms/step - loss: 0.0680 - accuracy: 0.9648\n",
      "Epoch 143/200\n",
      "14/14 [==============================] - 0s 3ms/step - loss: 0.0676 - accuracy: 0.9624\n",
      "Epoch 144/200\n",
      "14/14 [==============================] - 0s 3ms/step - loss: 0.0673 - accuracy: 0.9648\n",
      "Epoch 145/200\n",
      "14/14 [==============================] - 0s 3ms/step - loss: 0.0678 - accuracy: 0.9648\n",
      "Epoch 146/200\n",
      "14/14 [==============================] - 0s 3ms/step - loss: 0.0673 - accuracy: 0.9695\n",
      "Epoch 147/200\n",
      "14/14 [==============================] - 0s 3ms/step - loss: 0.0664 - accuracy: 0.9671\n",
      "Epoch 148/200\n",
      "14/14 [==============================] - 0s 3ms/step - loss: 0.0660 - accuracy: 0.9671\n",
      "Epoch 149/200\n",
      "14/14 [==============================] - 0s 3ms/step - loss: 0.0668 - accuracy: 0.9648\n",
      "Epoch 150/200\n",
      "14/14 [==============================] - 0s 2ms/step - loss: 0.0653 - accuracy: 0.9648\n",
      "Epoch 151/200\n",
      "14/14 [==============================] - 0s 3ms/step - loss: 0.0653 - accuracy: 0.9671\n",
      "Epoch 152/200\n",
      "14/14 [==============================] - 0s 3ms/step - loss: 0.0647 - accuracy: 0.9671\n",
      "Epoch 153/200\n",
      "14/14 [==============================] - 0s 3ms/step - loss: 0.0647 - accuracy: 0.9671\n",
      "Epoch 154/200\n",
      "14/14 [==============================] - 0s 3ms/step - loss: 0.0643 - accuracy: 0.9695\n",
      "Epoch 155/200\n",
      "14/14 [==============================] - 0s 3ms/step - loss: 0.0639 - accuracy: 0.9671\n",
      "Epoch 156/200\n",
      "14/14 [==============================] - 0s 3ms/step - loss: 0.0639 - accuracy: 0.9648\n",
      "Epoch 157/200\n",
      "14/14 [==============================] - 0s 3ms/step - loss: 0.0630 - accuracy: 0.9671\n",
      "Epoch 158/200\n",
      "14/14 [==============================] - 0s 2ms/step - loss: 0.0629 - accuracy: 0.9648\n",
      "Epoch 159/200\n",
      "14/14 [==============================] - 0s 3ms/step - loss: 0.0631 - accuracy: 0.9695\n",
      "Epoch 160/200\n",
      "14/14 [==============================] - 0s 3ms/step - loss: 0.0624 - accuracy: 0.9671\n",
      "Epoch 161/200\n",
      "14/14 [==============================] - 0s 3ms/step - loss: 0.0617 - accuracy: 0.9695\n",
      "Epoch 162/200\n",
      "14/14 [==============================] - 0s 3ms/step - loss: 0.0616 - accuracy: 0.9695\n",
      "Epoch 163/200\n",
      "14/14 [==============================] - 0s 3ms/step - loss: 0.0613 - accuracy: 0.9695\n",
      "Epoch 164/200\n",
      "14/14 [==============================] - 0s 3ms/step - loss: 0.0611 - accuracy: 0.9718\n",
      "Epoch 165/200\n",
      "14/14 [==============================] - 0s 3ms/step - loss: 0.0603 - accuracy: 0.9742\n",
      "Epoch 166/200\n",
      "14/14 [==============================] - 0s 2ms/step - loss: 0.0605 - accuracy: 0.9671\n",
      "Epoch 167/200\n",
      "14/14 [==============================] - 0s 4ms/step - loss: 0.0600 - accuracy: 0.9695\n",
      "Epoch 168/200\n",
      "14/14 [==============================] - 0s 3ms/step - loss: 0.0604 - accuracy: 0.9695\n",
      "Epoch 169/200\n",
      "14/14 [==============================] - 0s 3ms/step - loss: 0.0595 - accuracy: 0.9742\n",
      "Epoch 170/200\n",
      "14/14 [==============================] - 0s 3ms/step - loss: 0.0590 - accuracy: 0.9742\n",
      "Epoch 171/200\n",
      "14/14 [==============================] - 0s 2ms/step - loss: 0.0591 - accuracy: 0.9742\n",
      "Epoch 172/200\n",
      "14/14 [==============================] - 0s 3ms/step - loss: 0.0585 - accuracy: 0.9742\n",
      "Epoch 173/200\n",
      "14/14 [==============================] - 0s 3ms/step - loss: 0.0587 - accuracy: 0.9742\n",
      "Epoch 174/200\n",
      "14/14 [==============================] - 0s 3ms/step - loss: 0.0581 - accuracy: 0.9742\n",
      "Epoch 175/200\n",
      "14/14 [==============================] - 0s 3ms/step - loss: 0.0575 - accuracy: 0.9742\n",
      "Epoch 176/200\n",
      "14/14 [==============================] - 0s 3ms/step - loss: 0.0573 - accuracy: 0.9742\n",
      "Epoch 177/200\n",
      "14/14 [==============================] - 0s 3ms/step - loss: 0.0568 - accuracy: 0.9765\n",
      "Epoch 178/200\n",
      "14/14 [==============================] - 0s 3ms/step - loss: 0.0573 - accuracy: 0.9742\n",
      "Epoch 179/200\n",
      "14/14 [==============================] - 0s 2ms/step - loss: 0.0568 - accuracy: 0.9742\n",
      "Epoch 180/200\n",
      "14/14 [==============================] - 0s 3ms/step - loss: 0.0580 - accuracy: 0.9718\n",
      "Epoch 181/200\n",
      "14/14 [==============================] - 0s 3ms/step - loss: 0.0556 - accuracy: 0.9789\n",
      "Epoch 182/200\n",
      "14/14 [==============================] - 0s 3ms/step - loss: 0.0569 - accuracy: 0.9742\n",
      "Epoch 183/200\n",
      "14/14 [==============================] - 0s 3ms/step - loss: 0.0549 - accuracy: 0.9765\n",
      "Epoch 184/200\n",
      "14/14 [==============================] - 0s 3ms/step - loss: 0.0553 - accuracy: 0.9742\n",
      "Epoch 185/200\n",
      "14/14 [==============================] - 0s 3ms/step - loss: 0.0545 - accuracy: 0.9789\n",
      "Epoch 186/200\n",
      "14/14 [==============================] - 0s 3ms/step - loss: 0.0546 - accuracy: 0.9765\n",
      "Epoch 187/200\n",
      "14/14 [==============================] - 0s 3ms/step - loss: 0.0541 - accuracy: 0.9765\n",
      "Epoch 188/200\n",
      "14/14 [==============================] - 0s 3ms/step - loss: 0.0533 - accuracy: 0.9789\n",
      "Epoch 189/200\n",
      "14/14 [==============================] - 0s 4ms/step - loss: 0.0534 - accuracy: 0.9765\n",
      "Epoch 190/200\n",
      "14/14 [==============================] - 0s 3ms/step - loss: 0.0529 - accuracy: 0.9789\n",
      "Epoch 191/200\n",
      "14/14 [==============================] - 0s 3ms/step - loss: 0.0529 - accuracy: 0.9789\n",
      "Epoch 192/200\n",
      "14/14 [==============================] - 0s 3ms/step - loss: 0.0526 - accuracy: 0.9789\n",
      "Epoch 193/200\n",
      "14/14 [==============================] - 0s 3ms/step - loss: 0.0526 - accuracy: 0.9789\n",
      "Epoch 194/200\n",
      "14/14 [==============================] - 0s 3ms/step - loss: 0.0521 - accuracy: 0.9789\n",
      "Epoch 195/200\n",
      "14/14 [==============================] - 0s 3ms/step - loss: 0.0513 - accuracy: 0.9789\n",
      "Epoch 196/200\n",
      "14/14 [==============================] - 0s 3ms/step - loss: 0.0518 - accuracy: 0.9789\n",
      "Epoch 197/200\n",
      "14/14 [==============================] - 0s 3ms/step - loss: 0.0506 - accuracy: 0.9789\n",
      "Epoch 198/200\n",
      "14/14 [==============================] - 0s 3ms/step - loss: 0.0513 - accuracy: 0.9789\n",
      "Epoch 199/200\n",
      "14/14 [==============================] - 0s 3ms/step - loss: 0.0501 - accuracy: 0.9789\n",
      "Epoch 200/200\n",
      "14/14 [==============================] - 0s 3ms/step - loss: 0.0503 - accuracy: 0.9789\n"
     ]
    }
   ],
   "source": [
    "# Fit the model using 50 epochs and the training data\n",
    "fit_model = nn.fit(X_train_scaled, y_train, epochs=200)"
   ]
  },
  {
   "cell_type": "code",
   "execution_count": 23,
   "id": "d166f7db-c66b-486c-9574-1796485d7027",
   "metadata": {
    "tags": []
   },
   "outputs": [
    {
     "name": "stdout",
     "output_type": "stream",
     "text": [
      "5/5 - 0s - loss: 0.1673 - accuracy: 0.9510 - 411ms/epoch - 82ms/step\n",
      "Loss: 0.16729170083999634, Accuracy: 0.9510489702224731\n"
     ]
    }
   ],
   "source": [
    "# Evaluate the model loss and accuracy metrics using the evaluate method and the test data\n",
    "model_loss, model_accuracy = nn.evaluate(X_test_scaled,y_test,verbose=2)\n",
    "\n",
    "# Display the model loss and accuracy results\n",
    "print(f\"Loss: {model_loss}, Accuracy: {model_accuracy}\")"
   ]
  },
  {
   "cell_type": "code",
   "execution_count": null,
   "id": "1d25513d-b243-439d-b4d5-bdecefb49c26",
   "metadata": {},
   "outputs": [],
   "source": []
  }
 ],
 "metadata": {
  "kernelspec": {
   "display_name": "Python 3 (ipykernel)",
   "language": "python",
   "name": "python3"
  },
  "language_info": {
   "codemirror_mode": {
    "name": "ipython",
    "version": 3
   },
   "file_extension": ".py",
   "mimetype": "text/x-python",
   "name": "python",
   "nbconvert_exporter": "python",
   "pygments_lexer": "ipython3",
   "version": "3.11.5"
  }
 },
 "nbformat": 4,
 "nbformat_minor": 5
}
